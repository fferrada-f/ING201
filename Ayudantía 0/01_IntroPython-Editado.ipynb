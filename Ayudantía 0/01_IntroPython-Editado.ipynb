{
 "cells": [
  {
   "cell_type": "markdown",
   "metadata": {
    "colab_type": "text",
    "id": "SmVrFWWNE-ck"
   },
   "source": [
    "# Laboratorio Investigación de Operaciones\n",
    "Basada en la ayudantía de Machine Learning, Anthony Cho.\n",
    "\n",
    "#### Ayudante: Francisco Ferrada\n",
    "\n",
    "**Tema**: Introduccion a Python "
   ]
  },
  {
   "cell_type": "markdown",
   "metadata": {
    "colab_type": "text",
    "id": "B9e3zAREE-cm"
   },
   "source": [
    "#### Asignacion de variables"
   ]
  },
  {
   "cell_type": "code",
   "execution_count": 17,
   "metadata": {
    "colab": {
     "base_uri": "https://localhost:8080/",
     "height": 126
    },
    "colab_type": "code",
    "id": "JGZyA5ffE-co",
    "outputId": "8d3945b1-b955-461e-9109-56b301cd8cbc",
    "scrolled": true
   },
   "outputs": [
    {
     "name": "stdout",
     "output_type": "stream",
     "text": [
      "1\n",
      "hola\n",
      "1.0\n",
      "<class 'int'>\n",
      "<class 'str'>\n",
      "<class 'float'>\n"
     ]
    }
   ],
   "source": [
    "a = 'perro'\n",
    "b = 'hola'\n",
    "c = 1.0\n",
    "\n",
    "a = 1\n",
    "## Imprimir las variables\n",
    "print(a)\n",
    "print(b)\n",
    "print(c)\n",
    "\n",
    "## Imprimir tipo de dato almacenado en la variable\n",
    "print(type(a))\n",
    "print(type(b))\n",
    "print(type(c))"
   ]
  },
  {
   "cell_type": "code",
   "execution_count": 16,
   "metadata": {},
   "outputs": [
    {
     "data": {
      "text/plain": [
       "11"
      ]
     },
     "execution_count": 16,
     "metadata": {},
     "output_type": "execute_result"
    }
   ],
   "source": [
    "b = a+10"
   ]
  },
  {
   "cell_type": "markdown",
   "metadata": {
    "colab_type": "text",
    "id": "O94swP4OE-c1"
   },
   "source": [
    "### Algunas operaciones basicas"
   ]
  },
  {
   "cell_type": "code",
   "execution_count": 65,
   "metadata": {
    "colab": {
     "base_uri": "https://localhost:8080/",
     "height": 90
    },
    "colab_type": "code",
    "id": "600vgTg9E-c3",
    "outputId": "e88d2820-61b2-46ea-d02d-c316ab8fc3d8",
    "scrolled": true
   },
   "outputs": [
    {
     "name": "stdout",
     "output_type": "stream",
     "text": [
      "11\n",
      "1\n",
      "10\n",
      "1.0\n"
     ]
    }
   ],
   "source": [
    "## Suma\n",
    "a = a+10\n",
    "#a +=10\n",
    "print(a)\n",
    "\n",
    "## Resta\n",
    "a = a-10\n",
    "#a-=10\n",
    "print(a)\n",
    "\n",
    "## Multiplicacion\n",
    "a = a*10\n",
    "#a*=10\n",
    "print(a)\n",
    "\n",
    "## Division\n",
    "a = a/10\n",
    "#a/=10\n",
    "print(a)"
   ]
  },
  {
   "cell_type": "markdown",
   "metadata": {},
   "source": [
    "#### Operaciones binarias:\n",
    "\n",
    "Operacion | Descripción\n",
    "----------|------------\n",
    "a + b | Suma\n",
    "a - b | Resta\n",
    "a * b | Multiplicacion\n",
    "a / b | División\n",
    "a // b | División entera\n",
    "a % b | Módulo\n",
    "a ** b | Potencia\n",
    "a & b | Y lógico\n",
    "a | b | O lógico\n",
    "a ^ b | O-exclusivo lógico\n",
    "a == b | True si son iguales\n",
    "a != b | True si no son iguales\n",
    "a <= b | True si a es menor o igual que b (también con  <=, <, >)\n",
    "a is b | Trues si a y b son una referencia al mismo objeto\n",
    "a is not b | Trues si a y b no son una referencia al mismo objeto"
   ]
  },
  {
   "cell_type": "code",
   "execution_count": 28,
   "metadata": {},
   "outputs": [
    {
     "name": "stdout",
     "output_type": "stream",
     "text": [
      "hola\n"
     ]
    }
   ],
   "source": [
    "VariableA = [1,2,3,4, 'hola',False, 56.5, ['hola',5]]\n",
    "print(VariableA[7][0])"
   ]
  },
  {
   "cell_type": "markdown",
   "metadata": {
    "colab_type": "text",
    "id": "gr3jIwAoE-c-"
   },
   "source": [
    "### Listas\n",
    "Recordar que las listas solo son un conjunto de elementos agrupados, pueden tener distinto tipo de dato alojado en una misma lista. Incluso listas adentro de la lista."
   ]
  },
  {
   "cell_type": "code",
   "execution_count": 38,
   "metadata": {
    "colab": {},
    "colab_type": "code",
    "id": "p8p5tGjcE-c_"
   },
   "outputs": [],
   "source": [
    "# Crear lista\n",
    "eventos = ['dormir', 'comer', 'correr', 'escapar',['lista','en','lista']]\n",
    "cualquierCosa = ['Modelo', 'PQC', 1500000]\n",
    "lista = [1,4,2,5,6,7,8,9,0,5,3,2]"
   ]
  },
  {
   "cell_type": "code",
   "execution_count": null,
   "metadata": {
    "colab": {
     "base_uri": "https://localhost:8080/",
     "height": 35
    },
    "colab_type": "code",
    "id": "d1ECaqrxE-dH",
    "outputId": "e542385a-4000-491c-c4fc-5d9f2bae30fb"
   },
   "outputs": [],
   "source": [
    "# Imprimir una lista\n",
    "print('eventos: ', eventos)"
   ]
  },
  {
   "cell_type": "code",
   "execution_count": null,
   "metadata": {
    "colab": {
     "base_uri": "https://localhost:8080/",
     "height": 53
    },
    "colab_type": "code",
    "id": "zLqyvGO1E-dN",
    "outputId": "10ab9bb8-929d-45b5-c733-a10b6e8ad533"
   },
   "outputs": [],
   "source": [
    "# Imprimir las dos listas en forma simple\n",
    "\n",
    "\n",
    "print('cualquierCosa:\\n {}'.format(cualquierCosa))\n",
    "print(f'cualquierCosa:\\n{cualquierCosa}')"
   ]
  },
  {
   "cell_type": "code",
   "execution_count": null,
   "metadata": {
    "colab": {
     "base_uri": "https://localhost:8080/",
     "height": 53
    },
    "colab_type": "code",
    "id": "bA3jQPETE-dX",
    "outputId": "6337eb6d-536b-49fe-d884-1341bfc95373"
   },
   "outputs": [],
   "source": [
    "# Imprimir las dos listas en un formato personalizado\n",
    "print('Lista 1: {}\\nLista 2: {}'.format(eventos, cualquierCosa))"
   ]
  },
  {
   "cell_type": "markdown",
   "metadata": {
    "colab_type": "text",
    "id": "3d47RgplE-db"
   },
   "source": [
    "#### Algunas operaciones con listas"
   ]
  },
  {
   "cell_type": "code",
   "execution_count": 35,
   "metadata": {},
   "outputs": [],
   "source": [
    "lista = [1,4,2,5,6,7,8,9,0,5,3,2]"
   ]
  },
  {
   "cell_type": "code",
   "execution_count": 34,
   "metadata": {},
   "outputs": [
    {
     "name": "stdout",
     "output_type": "stream",
     "text": [
      "[1, 4, 2, 5, 6, 7, 8, 9, 0, 5, 3, 2] [1, 4, 2, 5, 6, 7, 8, 9, 0, 5, 3, 2]\n",
      "[1, 4, 2, 5, 6, 7, 8, 9, 0, 5, 3, 2] [1, 4, 2, 5, 6, 7, 8, 9, 0, 5, 3, 2, 100]\n"
     ]
    }
   ],
   "source": [
    "listaB = listaA.copy()\n",
    "print(listaA, listaB)\n",
    "listaB.append(100)\n",
    "print(listaA,listaB)"
   ]
  },
  {
   "cell_type": "code",
   "execution_count": 36,
   "metadata": {
    "colab": {
     "base_uri": "https://localhost:8080/",
     "height": 35
    },
    "colab_type": "code",
    "id": "BPWaCtjlE-dd",
    "outputId": "813bbd6b-27f5-434f-f253-37576499ff35"
   },
   "outputs": [
    {
     "name": "stdout",
     "output_type": "stream",
     "text": [
      "lista:  [1, 4, 2, 5, 6, 7, 8, 9, 0, 5, 3, 2, 100]\n"
     ]
    }
   ],
   "source": [
    "# Adjuntar al final de la lista un elemento\n",
    "lista.append(100)\n",
    "print('lista: ', lista)"
   ]
  },
  {
   "cell_type": "code",
   "execution_count": 39,
   "metadata": {
    "colab": {
     "base_uri": "https://localhost:8080/",
     "height": 35
    },
    "colab_type": "code",
    "id": "wsopNzq9E-di",
    "outputId": "b8047731-0047-4db2-c6b9-005b74f59df4"
   },
   "outputs": [
    {
     "name": "stdout",
     "output_type": "stream",
     "text": [
      "lista:  [1, 4, 2, 5, 6, 7, 8, 9, 0, 5, 3, 2, 'dormir']\n"
     ]
    }
   ],
   "source": [
    "# Adjuntar una lista a otra lista como un elemento\n",
    "lista.append(eventos[0])\n",
    "print('lista: ', lista)"
   ]
  },
  {
   "cell_type": "code",
   "execution_count": 44,
   "metadata": {},
   "outputs": [
    {
     "data": {
      "text/plain": [
       "1"
      ]
     },
     "execution_count": 44,
     "metadata": {},
     "output_type": "execute_result"
    }
   ],
   "source": []
  },
  {
   "cell_type": "code",
   "execution_count": 46,
   "metadata": {
    "colab": {
     "base_uri": "https://localhost:8080/",
     "height": 35
    },
    "colab_type": "code",
    "id": "0LzP2TRWE-do",
    "outputId": "a5dff36d-ba44-4939-b358-1c087009c988"
   },
   "outputs": [
    {
     "name": "stdout",
     "output_type": "stream",
     "text": [
      "lista:  [1, 4, 2, 5, 6, 7, 8, 9, 0, 5, 3, 2, [3, 523, 5, 9, 6]]\n"
     ]
    }
   ],
   "source": [
    "# Extender una lista con los elementos de otra lista\n",
    "\n",
    "lista = [1,4,2,5,6,7,8,9,0,5,3,2]\n",
    "lista2 = [3,523,5,9,6]\n",
    "lista.append(lista2)\n",
    "#lista.extend(lista2)\n",
    "print('lista: ', lista)"
   ]
  },
  {
   "cell_type": "code",
   "execution_count": 47,
   "metadata": {
    "colab": {
     "base_uri": "https://localhost:8080/",
     "height": 35
    },
    "colab_type": "code",
    "id": "p5lMUMG-E-du",
    "outputId": "87db5b95-0cda-4588-b6e0-7671d631af00"
   },
   "outputs": [
    {
     "data": {
      "text/plain": [
       "5"
      ]
     },
     "execution_count": 47,
     "metadata": {},
     "output_type": "execute_result"
    }
   ],
   "source": [
    "# Consultar posicion del primer elemento que coincida con el numero 7 en la lista\n",
    "lista.index(7)"
   ]
  },
  {
   "cell_type": "code",
   "execution_count": 48,
   "metadata": {
    "colab": {
     "base_uri": "https://localhost:8080/",
     "height": 35
    },
    "colab_type": "code",
    "id": "5vKqELAKE-dz",
    "outputId": "5b71bb50-3983-4119-8edd-edbed884cfd3"
   },
   "outputs": [
    {
     "data": {
      "text/plain": [
       "1"
      ]
     },
     "execution_count": 48,
     "metadata": {},
     "output_type": "execute_result"
    }
   ],
   "source": [
    "# Contar cuantas repeticiones hay del numero 3 en la lista\n",
    "lista.count(3)"
   ]
  },
  {
   "cell_type": "code",
   "execution_count": 49,
   "metadata": {
    "colab": {
     "base_uri": "https://localhost:8080/",
     "height": 35
    },
    "colab_type": "code",
    "id": "rg9zUTknE-d4",
    "outputId": "a9f0ae4e-a4f0-4f15-fc82-97f131f378ba"
   },
   "outputs": [
    {
     "name": "stdout",
     "output_type": "stream",
     "text": [
      "[1, 4, 2, 100, 5, 6, 7, 8, 9, 0, 5, 3, 2, [3, 523, 5, 9, 6]]\n"
     ]
    }
   ],
   "source": [
    "# Insertar el elemento 100 en el indice 3 de la lista\n",
    "lista.insert(3, 100)\n",
    "print(lista)"
   ]
  },
  {
   "cell_type": "code",
   "execution_count": 50,
   "metadata": {
    "colab": {
     "base_uri": "https://localhost:8080/",
     "height": 35
    },
    "colab_type": "code",
    "id": "_IEa2xAFE-d-",
    "outputId": "0649aa48-a136-4103-cdb1-12c609e2c02a"
   },
   "outputs": [
    {
     "name": "stdout",
     "output_type": "stream",
     "text": [
      "[1, 4, 2, 5, 6, 7, 8, 9, 0, 5, 3, 2, [3, 523, 5, 9, 6]]\n"
     ]
    }
   ],
   "source": [
    "# Remover la primera aparicion en la lista que coincida con el numero 2.\n",
    "lista.remove(100)\n",
    "print(lista)"
   ]
  },
  {
   "cell_type": "code",
   "execution_count": 51,
   "metadata": {
    "colab": {
     "base_uri": "https://localhost:8080/",
     "height": 35
    },
    "colab_type": "code",
    "id": "dOrUILf6E-eC",
    "outputId": "ada5c17f-2e25-41d0-c052-84c76678eb3f"
   },
   "outputs": [
    {
     "name": "stdout",
     "output_type": "stream",
     "text": [
      "[1, 4, 2, 5, 6, 7, 8, 9, 0, 5, 3, 2]\n"
     ]
    }
   ],
   "source": [
    "# Eliminar el ultimo elemento de la lista\n",
    "lista.pop()\n",
    "print(lista)"
   ]
  },
  {
   "cell_type": "code",
   "execution_count": 52,
   "metadata": {
    "colab": {
     "base_uri": "https://localhost:8080/",
     "height": 35
    },
    "colab_type": "code",
    "id": "XmgMwHDDE-eH",
    "outputId": "12ea6bda-e516-4fbf-bf95-dc78549d8df2"
   },
   "outputs": [
    {
     "name": "stdout",
     "output_type": "stream",
     "text": [
      "[1, 4, 5, 6, 7, 8, 9, 0, 5, 3, 2]\n"
     ]
    }
   ],
   "source": [
    "# Eliminar el elemento localizado en el indice 2 de la lista\n",
    "lista.pop(2)\n",
    "print(lista)"
   ]
  },
  {
   "cell_type": "markdown",
   "metadata": {
    "colab_type": "text",
    "id": "9-itNWOyE-eM"
   },
   "source": [
    "### Diccionarios"
   ]
  },
  {
   "cell_type": "code",
   "execution_count": null,
   "metadata": {
    "colab": {
     "base_uri": "https://localhost:8080/",
     "height": 72
    },
    "colab_type": "code",
    "id": "SOxb-6QgE-eM",
    "outputId": "b032b3ad-f75a-4347-83aa-33675c9a0a3c"
   },
   "outputs": [],
   "source": [
    "# Crear un diccionario\n",
    "costos = {'Desayuno': 50, \n",
    "          'Almuerzo': 100,\n",
    "          'Cena': {'Suave': 40, \n",
    "                   'Intermedio': 60, \n",
    "                   'Heavy': 120}\n",
    "          }\n",
    "costos['Desayuno']"
   ]
  },
  {
   "cell_type": "code",
   "execution_count": null,
   "metadata": {
    "colab": {
     "base_uri": "https://localhost:8080/",
     "height": 35
    },
    "colab_type": "code",
    "id": "CUcQcBtTE-eQ",
    "outputId": "2c1af3e3-4d7b-400e-b848-82ba2ebbd0ae"
   },
   "outputs": [],
   "source": [
    "##Visualizar las llaves de un diccionario\n",
    "costos.keys()"
   ]
  },
  {
   "cell_type": "code",
   "execution_count": null,
   "metadata": {
    "colab": {
     "base_uri": "https://localhost:8080/",
     "height": 35
    },
    "colab_type": "code",
    "id": "QWpKudzdE-eV",
    "outputId": "43e08896-ff07-42d4-eec8-46aa66f8d45b"
   },
   "outputs": [],
   "source": [
    "## Visualizar las llaves del diccionario 'Cena', el cual se encuentra al interior del diccionario 'costos'\n",
    "costos['Cena'].keys()"
   ]
  },
  {
   "cell_type": "code",
   "execution_count": null,
   "metadata": {
    "colab": {
     "base_uri": "https://localhost:8080/",
     "height": 35
    },
    "colab_type": "code",
    "id": "8VJVZxthE-eY",
    "outputId": "1c780bf4-c5bf-4ba7-f83f-e92370779b52"
   },
   "outputs": [],
   "source": [
    "contacto = {}\n",
    "contacto['Nombre'] = 'Francisco'\n",
    "contacto['telefono'] = '+56900000001'\n",
    "contacto['email'] = 'fco@pmail.com'\n",
    "contacto['Ayudante'] = ['Python', 'Laboratorio de IO']\n",
    "\n",
    "print(contacto)"
   ]
  },
  {
   "cell_type": "code",
   "execution_count": null,
   "metadata": {
    "colab": {
     "base_uri": "https://localhost:8080/",
     "height": 35
    },
    "colab_type": "code",
    "id": "-raczVcfE-ec",
    "outputId": "55beea1f-be15-42ae-95a6-a3304390f46e"
   },
   "outputs": [],
   "source": [
    "# Acceso a elemento del diccionario\n",
    "costos['Desayuno']"
   ]
  },
  {
   "cell_type": "code",
   "execution_count": null,
   "metadata": {
    "colab": {
     "base_uri": "https://localhost:8080/",
     "height": 35
    },
    "colab_type": "code",
    "id": "pbsu0guBE-ei",
    "outputId": "12e376d3-853c-493b-ad88-3c7afd7af252"
   },
   "outputs": [],
   "source": [
    "costos['Cena']"
   ]
  },
  {
   "cell_type": "code",
   "execution_count": null,
   "metadata": {
    "colab": {
     "base_uri": "https://localhost:8080/",
     "height": 35
    },
    "colab_type": "code",
    "id": "LO91tAb9E-en",
    "outputId": "ef3cc851-a205-4c73-a6ac-0ad41793024a"
   },
   "outputs": [],
   "source": [
    "costos['Cena']['Suave']"
   ]
  },
  {
   "cell_type": "markdown",
   "metadata": {
    "colab_type": "text",
    "id": "ojOOUtGGE-eq"
   },
   "source": [
    "### Condicional IF, IF-ELSE, IF-ELIF-...ELIF-ELSE"
   ]
  },
  {
   "cell_type": "code",
   "execution_count": 55,
   "metadata": {},
   "outputs": [
    {
     "name": "stdout",
     "output_type": "stream",
     "text": [
      "9\n",
      "dentro de la tabulacion\n",
      "6\n",
      "dentro de la tabulacion\n",
      "3\n",
      "dentro de la tabulacion\n",
      "0\n",
      "dentro de la tabulacion\n",
      "fuera de la tabulacion\n"
     ]
    }
   ],
   "source": [
    "for i in reversed(range(0,10,3)):\n",
    "    print(i)\n",
    "    print('dentro de la tabulacion')\n",
    "    \n",
    "    \n",
    "print('fuera de la tabulacion')"
   ]
  },
  {
   "cell_type": "code",
   "execution_count": 56,
   "metadata": {
    "colab": {
     "base_uri": "https://localhost:8080/",
     "height": 35
    },
    "colab_type": "code",
    "id": "UzBNuwVcE-eq",
    "outputId": "18040744-dead-4308-810b-280fbada7f95"
   },
   "outputs": [
    {
     "name": "stdout",
     "output_type": "stream",
     "text": [
      "Valor de a: 20\n"
     ]
    }
   ],
   "source": [
    "a = 20\n",
    "print('Valor de a:',a)"
   ]
  },
  {
   "cell_type": "code",
   "execution_count": 58,
   "metadata": {
    "colab": {
     "base_uri": "https://localhost:8080/",
     "height": 35
    },
    "colab_type": "code",
    "id": "5UHSRIPqE-ev",
    "outputId": "759532d5-cf5c-4221-b4ca-9aa9717a884b"
   },
   "outputs": [
    {
     "name": "stdout",
     "output_type": "stream",
     "text": [
      "El valor de a es menor que 30\n"
     ]
    }
   ],
   "source": [
    "## Uso de un solo IF\n",
    "if a <30:\n",
    "    print(\"El valor de a es menor que 30\")"
   ]
  },
  {
   "cell_type": "code",
   "execution_count": 60,
   "metadata": {
    "colab": {
     "base_uri": "https://localhost:8080/",
     "height": 35
    },
    "colab_type": "code",
    "id": "4MSpBQ69E-ez",
    "outputId": "137cc6f8-2d13-40b0-b796-1c6407f8276e"
   },
   "outputs": [
    {
     "name": "stdout",
     "output_type": "stream",
     "text": [
      "El valor de a es menor que 10\n"
     ]
    }
   ],
   "source": [
    "## Uso del IF-ELSE\n",
    "a= 5\n",
    "if a < 10:\n",
    "    print(\"El valor de a es menor que 10\")\n",
    "else:\n",
    "    print(\"El valor de a es mayor o igual que 10\")"
   ]
  },
  {
   "cell_type": "code",
   "execution_count": 123,
   "metadata": {
    "colab": {
     "base_uri": "https://localhost:8080/",
     "height": 35
    },
    "colab_type": "code",
    "id": "mmqR72UvE-e7",
    "outputId": "7ccaece6-e672-4f2f-e817-eedc77114a27"
   },
   "outputs": [
    {
     "name": "stdout",
     "output_type": "stream",
     "text": [
      "El valor de a es menor que 20\n"
     ]
    }
   ],
   "source": [
    "## Uso del IF-ELSE anidados\n",
    "if a < 10:\n",
    "    print(\"El valor de a es menor que 10\")\n",
    "else:\n",
    "    if a < 20:\n",
    "        print(\"El valor de a es menor que 20\")\n",
    "    else:\n",
    "        print(\"El valor de a es mayor o igual que 20\")\n"
   ]
  },
  {
   "cell_type": "code",
   "execution_count": 124,
   "metadata": {
    "colab": {
     "base_uri": "https://localhost:8080/",
     "height": 35
    },
    "colab_type": "code",
    "id": "7udLYBSSE-e-",
    "outputId": "e6673ee2-d5f4-4db8-c07d-805ccd099947"
   },
   "outputs": [
    {
     "name": "stdout",
     "output_type": "stream",
     "text": [
      "El valor de a es menor que 20\n"
     ]
    }
   ],
   "source": [
    "## Uso del IF-ELIF-ELSE\n",
    "if a < 10:\n",
    "    print(\"El valor de a es menor que 10\")\n",
    "elif a < 20:\n",
    "    print(\"El valor de a es menor que 20\")\n",
    "else:\n",
    "    print(\"El valor de a es mayor o igual que 20\")\n"
   ]
  },
  {
   "cell_type": "markdown",
   "metadata": {
    "colab_type": "text",
    "id": "q1TTPSJcE-fC"
   },
   "source": [
    "### Bucles"
   ]
  },
  {
   "cell_type": "code",
   "execution_count": 63,
   "metadata": {
    "colab": {
     "base_uri": "https://localhost:8080/",
     "height": 53
    },
    "colab_type": "code",
    "id": "JMUbJvE0E-fD",
    "outputId": "708a7ee0-37f4-4f75-d54b-09bf4cda89b0"
   },
   "outputs": [
    {
     "name": "stdout",
     "output_type": "stream",
     "text": [
      "dormir\n",
      "comer\n",
      "correr\n",
      "escapar\n",
      "['lista', 'en', 'lista']\n"
     ]
    }
   ],
   "source": [
    "## Calcular el tamaño de la lista\n",
    "N = len(eventos)\n",
    "N\n",
    "\n",
    "for i in eventos:\n",
    "    print(i)"
   ]
  },
  {
   "cell_type": "code",
   "execution_count": 64,
   "metadata": {},
   "outputs": [
    {
     "name": "stdout",
     "output_type": "stream",
     "text": [
      "0\n",
      "dormir\n",
      "1\n",
      "comer\n",
      "2\n",
      "correr\n",
      "3\n",
      "escapar\n",
      "4\n",
      "['lista', 'en', 'lista']\n"
     ]
    }
   ],
   "source": [
    "for i in range(len(eventos)):\n",
    "    print(i)\n",
    "    print(eventos[i])"
   ]
  },
  {
   "cell_type": "code",
   "execution_count": 67,
   "metadata": {
    "colab": {
     "base_uri": "https://localhost:8080/",
     "height": 108
    },
    "colab_type": "code",
    "id": "J-_P6nniE-fF",
    "outputId": "a6fb893c-4870-4b65-bf77-9c3a654eb978"
   },
   "outputs": [
    {
     "name": "stdout",
     "output_type": "stream",
     "text": [
      "0\n",
      "dormir\n",
      "comer\n",
      "correr\n",
      "escapar\n",
      "['lista', 'en', 'lista']\n",
      "1\n",
      "dormir\n",
      "comer\n",
      "correr\n",
      "escapar\n",
      "['lista', 'en', 'lista']\n",
      "2\n",
      "dormir\n",
      "comer\n",
      "correr\n",
      "escapar\n",
      "['lista', 'en', 'lista']\n",
      "3\n",
      "dormir\n",
      "comer\n",
      "correr\n",
      "escapar\n",
      "['lista', 'en', 'lista']\n",
      "4\n",
      "dormir\n",
      "comer\n",
      "correr\n",
      "escapar\n",
      "['lista', 'en', 'lista']\n"
     ]
    }
   ],
   "source": [
    "## uso del for por elemento\n",
    "for i in range(len(eventos)):\n",
    "    print(i)\n",
    "    for itera in eventos:\n",
    "        print(itera)"
   ]
  },
  {
   "cell_type": "code",
   "execution_count": 134,
   "metadata": {
    "colab": {
     "base_uri": "https://localhost:8080/",
     "height": 199
    },
    "colab_type": "code",
    "id": "b7EjN37YE-fJ",
    "outputId": "400903f4-337e-482c-e89e-3b94c955d9e2"
   },
   "outputs": [
    {
     "name": "stdout",
     "output_type": "stream",
     "text": [
      "8\n",
      "6\n",
      "4\n",
      "2\n",
      "0\n"
     ]
    }
   ],
   "source": [
    "for i in reversed(range(0,10,2)):\n",
    "    print(i)"
   ]
  },
  {
   "cell_type": "code",
   "execution_count": null,
   "metadata": {
    "colab": {
     "base_uri": "https://localhost:8080/",
     "height": 108
    },
    "colab_type": "code",
    "id": "DG-4w5SGE-fM",
    "outputId": "fb0e551f-6718-4385-bef9-3d56b918980b",
    "scrolled": true
   },
   "outputs": [],
   "source": [
    "## Uso del for por indice\n",
    "for i in eventos:\n",
    "    print(i)\n",
    "for i in range(len(eventos)):\n",
    "    print(eventos[i])"
   ]
  },
  {
   "cell_type": "code",
   "execution_count": 69,
   "metadata": {
    "colab": {
     "base_uri": "https://localhost:8080/",
     "height": 108
    },
    "colab_type": "code",
    "id": "Rm2987CkE-fP",
    "outputId": "dc66462b-f987-4794-ea31-8efc7484ee2d"
   },
   "outputs": [
    {
     "name": "stdout",
     "output_type": "stream",
     "text": [
      "0\n",
      "dormir\n",
      "1\n",
      "comer\n",
      "2\n",
      "correr\n",
      "3\n",
      "escapar\n",
      "4\n",
      "['lista', 'en', 'lista']\n"
     ]
    }
   ],
   "source": [
    "## Uso del while\n",
    "i = 0\n",
    "while i<len(eventos):\n",
    "    print(i)\n",
    "    print(eventos[i])\n",
    "    i = i+1"
   ]
  },
  {
   "cell_type": "markdown",
   "metadata": {
    "colab_type": "text",
    "id": "L4WagrWME-fS"
   },
   "source": [
    "### Crear una funcion personalizada"
   ]
  },
  {
   "cell_type": "code",
   "execution_count": null,
   "metadata": {
    "colab": {},
    "colab_type": "code",
    "id": "-GqMEoWEE-fT"
   },
   "outputs": [],
   "source": [
    "def Mi_funcion(a1,b1):\n",
    "    if type(a1) == list and type(b1) == list:\n",
    "        print(f'Dado que son listas, el largo del elemento resultante es: {len(a1)+len(b1)}')\n",
    "        return a1+b1\n",
    "    if type(a1) == np.ndarray and type(b1) == np.ndarray:\n",
    "        if len(a1) != len(b1):\n",
    "            print('La operacion no es factible por problemas de dimensionalidad.')\n",
    "        else:\n",
    "            print(f'Dado que son arreglos, el largo del elemento resultante es: {max(len(a1),len(b1))}')\n",
    "            return a1+b1\n",
    "    if (type(a1) == np.ndarray and type(b1) != np.ndarray) or (type(a1) == list and type(b1) != list):\n",
    "        print('La operacion no puede ser realizada, ya que los elementos no coinciden en su naturaleza.')"
   ]
  },
  {
   "cell_type": "code",
   "execution_count": null,
   "metadata": {
    "colab": {
     "base_uri": "https://localhost:8080/",
     "height": 53
    },
    "colab_type": "code",
    "id": "udHRpd_WE-fX",
    "outputId": "299b8554-bbd0-4048-e136-ed0709cc4096"
   },
   "outputs": [],
   "source": [
    "k = [1,2,3]\n",
    "l = [4,5,6]\n",
    "Mi_funcion(k,l)"
   ]
  },
  {
   "cell_type": "markdown",
   "metadata": {
    "colab_type": "text",
    "id": "qt2QOdSsE-fb"
   },
   "source": [
    "### Cargar una libreria completa\n",
    "En este escenario solo utilizaremos la libreria numpy, la cual es útil para desarrollar operaciones matematicas con arreglos y/o matrices.\n",
    "La sintaxis de importación considera lo siguiente:\n",
    "import numpy as np\n",
    "Importa la librería \"numpy\" con el nombre np.\n",
    "\n",
    "Esto es útil cuando queramos llamar a las funciones de las librerías, ya que siempre tendremos que poner el nombre de la librería antes de la funcion que queramos llamar que esté al interior de esta.\n",
    "\n",
    "Las librerias que comunmente ocuparemos en el curso son:"
   ]
  },
  {
   "cell_type": "markdown",
   "metadata": {
    "colab_type": "raw",
    "id": "UbvtSz1kE-fc"
   },
   "source": [
    "`import numpy as np`    Principalmente para desarrollar operaciones matematicas.\n",
    "\n",
    "`import matplotlib.pyplot as plt`    Para crear gráficos.\n",
    "\n",
    "`import pandas as pd`      Para realizar lectura de datos e importar data.\n"
   ]
  },
  {
   "cell_type": "markdown",
   "metadata": {
    "colab_type": "text",
    "id": "YQ5YZomAPeBp"
   },
   "source": [
    "### Cargar una funcion especifica de una libreria\n",
    "En el caso en que necesitemos importar una función específica de una librería, se puede hacer con la siguiente sintaxis:\n",
    "\n",
    "\n",
    "\n",
    "```\n",
    "from libreria import funcion\n",
    "```\n",
    "Ejemplo: \n",
    "```\n",
    "from numpy import linspace\n",
    "```\n",
    "\n"
   ]
  },
  {
   "cell_type": "code",
   "execution_count": 71,
   "metadata": {
    "colab": {},
    "colab_type": "code",
    "id": "PhoRJhm7E-fc"
   },
   "outputs": [],
   "source": [
    "import numpy as np #Hacer operaciones con matrices\n",
    "import pandas as pd #Leer archivos csv y manejo de data\n",
    "from tabulate import tabulate #Visualizar bonito"
   ]
  },
  {
   "cell_type": "code",
   "execution_count": 89,
   "metadata": {},
   "outputs": [
    {
     "data": {
      "text/plain": [
       "array([5, 7, 9])"
      ]
     },
     "execution_count": 89,
     "metadata": {},
     "output_type": "execute_result"
    }
   ],
   "source": [
    "elemento = np.array([1,2,3])\n",
    "elemento2 = np.array([4,5,6])\n",
    "elemento+elemento2"
   ]
  },
  {
   "cell_type": "code",
   "execution_count": null,
   "metadata": {},
   "outputs": [],
   "source": []
  },
  {
   "cell_type": "code",
   "execution_count": null,
   "metadata": {
    "colab": {
     "base_uri": "https://localhost:8080/",
     "height": 53
    },
    "colab_type": "code",
    "id": "WK7ArbBBE-fe",
    "outputId": "6a02be6a-df84-4cee-d176-f8f902ae5634"
   },
   "outputs": [],
   "source": [
    "k = np.array([1,2,3])\n",
    "l = np.array([4,5,6])\n",
    "c = Mi_funcion(k,l)\n",
    "c"
   ]
  },
  {
   "cell_type": "code",
   "execution_count": null,
   "metadata": {
    "colab": {
     "base_uri": "https://localhost:8080/",
     "height": 35
    },
    "colab_type": "code",
    "id": "kowWiTXaE-fh",
    "outputId": "2a7cb776-aafd-4479-ce16-855c5fac0164"
   },
   "outputs": [],
   "source": [
    "k = np.array([1,2,3])\n",
    "l = [4,5,6]\n",
    "Mi_funcion(k,l)"
   ]
  },
  {
   "cell_type": "markdown",
   "metadata": {
    "colab_type": "text",
    "id": "M7YDNW-GE-fl"
   },
   "source": [
    "#### Operaciones con numpy"
   ]
  },
  {
   "cell_type": "code",
   "execution_count": null,
   "metadata": {
    "colab": {
     "base_uri": "https://localhost:8080/",
     "height": 126
    },
    "colab_type": "code",
    "id": "kxCPx2FLE-fl",
    "outputId": "89646714-51c8-49e0-8e73-5e872722ea1a"
   },
   "outputs": [],
   "source": [
    "## Definir listas\n",
    "A = [[1,2,3], [0,1,2]]\n",
    "b = [2, 3, 1]\n",
    "\n",
    "## Conversion de listas a arreglos de numpy\n",
    "A = np.array(A)\n",
    "b = np.array(b)\n",
    "\n",
    "print('Matriz A:\\n{}'.format(A))\n",
    "print('\\nVector b:\\n{}'.format(b))"
   ]
  },
  {
   "cell_type": "code",
   "execution_count": null,
   "metadata": {
    "colab": {},
    "colab_type": "code",
    "id": "377hbGNQE-f0",
    "outputId": "f901c03d-a79b-4acd-e4d6-4f75afa6a261"
   },
   "outputs": [],
   "source": [
    "# forma de la matriz\n",
    "print(f'Forma de la matriz A: {A.shape}')\n",
    "print('Forma de la matriz b: {}'.format(b.shape))"
   ]
  },
  {
   "cell_type": "code",
   "execution_count": null,
   "metadata": {
    "colab": {},
    "colab_type": "code",
    "id": "WmCzHzzSE-f2",
    "outputId": "b705f2b8-2688-4be4-8277-c49bbbf576f0"
   },
   "outputs": [],
   "source": [
    "# Numero de fila de una matriz\n",
    "print(f'Numero de filas de la matriz A: {A.shape[0]}')\n",
    "print(f'Numero de columnas de la matriz A: {A.shape[1]}')"
   ]
  },
  {
   "cell_type": "code",
   "execution_count": null,
   "metadata": {
    "colab": {},
    "colab_type": "code",
    "id": "HxT-nm4RE-f6",
    "outputId": "bb96841e-e436-4219-f2dd-f7e383a8c42a"
   },
   "outputs": [],
   "source": [
    "# Numero de elemento de una matriz\n",
    "print('Total elemento de la matriz: {}'.format(A.size))"
   ]
  },
  {
   "cell_type": "code",
   "execution_count": null,
   "metadata": {
    "colab": {},
    "colab_type": "code",
    "id": "Gw5jhJ8jE-f8",
    "outputId": "512fc01c-4848-4f7b-84ec-f59111e111a7"
   },
   "outputs": [],
   "source": [
    "# Longitud de un vector\n",
    "print('Longitud del vector: {}'.format( len(b) ))"
   ]
  },
  {
   "cell_type": "code",
   "execution_count": null,
   "metadata": {
    "colab": {},
    "colab_type": "code",
    "id": "lySnnTQBE-f_",
    "outputId": "8733cb79-f12c-4942-f774-69dc439ba65a"
   },
   "outputs": [],
   "source": [
    "# Operaciones punto a punto (numpy)\n",
    "A+b #Suma cada fila de la matriz A con el vector b."
   ]
  },
  {
   "cell_type": "code",
   "execution_count": null,
   "metadata": {
    "colab": {},
    "colab_type": "code",
    "id": "8bP2Smr_E-gC",
    "outputId": "f058007d-28c6-4e5b-88e4-5ec0f3e9484e"
   },
   "outputs": [],
   "source": [
    "# producto de la matriz A con el vector b\n",
    "A.dot(b)"
   ]
  },
  {
   "cell_type": "code",
   "execution_count": null,
   "metadata": {
    "colab": {},
    "colab_type": "code",
    "id": "qrQOp3yFE-gF",
    "outputId": "10153bb1-daac-42c5-8cb1-34676254fb04"
   },
   "outputs": [],
   "source": [
    "# Buscar el maximo de la matrix\n",
    "A.max()"
   ]
  },
  {
   "cell_type": "code",
   "execution_count": null,
   "metadata": {
    "colab": {},
    "colab_type": "code",
    "id": "QXIUG6_WE-gH",
    "outputId": "496d4a80-7748-4260-a15c-4f236f7664fa"
   },
   "outputs": [],
   "source": [
    "# Buscar el maximo por columna\n",
    "A.max(axis=0)"
   ]
  },
  {
   "cell_type": "code",
   "execution_count": null,
   "metadata": {
    "colab": {},
    "colab_type": "code",
    "id": "eYZM97OQE-gK",
    "outputId": "f259ad47-9a1e-4cd0-cf81-5702969dcc37"
   },
   "outputs": [],
   "source": [
    "# Buscar el maximo por fila\n",
    "A.max(axis=1)"
   ]
  },
  {
   "cell_type": "code",
   "execution_count": null,
   "metadata": {
    "colab": {},
    "colab_type": "code",
    "id": "LHsVWIMiE-gO",
    "outputId": "d95c3f86-db85-40d0-8da8-130a68abd199",
    "scrolled": true
   },
   "outputs": [],
   "source": [
    "# Llamar a todos los elementos de una columna\n",
    "for i in range(A.shape[1]):\n",
    "    print(f'Columna {i}: {A[:,i]}')"
   ]
  },
  {
   "cell_type": "code",
   "execution_count": null,
   "metadata": {
    "colab": {},
    "colab_type": "code",
    "id": "1TxYecj4E-gS",
    "outputId": "a59612c4-ef9a-4f72-9d38-926986e9710b"
   },
   "outputs": [],
   "source": [
    "# Llamar a todos los elementos de una fila\n",
    "for i in range(A.shape[0]):\n",
    "    print(f'Columna {i}: {A[i,:]}')"
   ]
  },
  {
   "cell_type": "code",
   "execution_count": null,
   "metadata": {
    "colab": {},
    "colab_type": "code",
    "id": "nIaKHyY3E-gT",
    "outputId": "b7d13a61-f020-472a-fef4-9925f5db159d"
   },
   "outputs": [],
   "source": [
    "# Convertir la matriz es un vector\n",
    "A.ravel()"
   ]
  },
  {
   "cell_type": "code",
   "execution_count": null,
   "metadata": {
    "colab": {},
    "colab_type": "code",
    "id": "s_wH2EHFE-gX",
    "outputId": "82e94ba7-9c0c-4737-957e-c553c29fcdb6"
   },
   "outputs": [],
   "source": [
    "# Redimensionar una matriz\n",
    "A.reshape((3, 2))"
   ]
  },
  {
   "cell_type": "markdown",
   "metadata": {},
   "source": [
    "### Generacion de números aleatorios\n"
   ]
  },
  {
   "cell_type": "code",
   "execution_count": null,
   "metadata": {},
   "outputs": [],
   "source": [
    "np.random.uniform()"
   ]
  },
  {
   "cell_type": "markdown",
   "metadata": {},
   "source": [
    "#### Generación de vector con numeros aleatorios"
   ]
  },
  {
   "cell_type": "code",
   "execution_count": null,
   "metadata": {
    "scrolled": true
   },
   "outputs": [],
   "source": [
    "np.random.uniform(0,1,10)"
   ]
  },
  {
   "cell_type": "markdown",
   "metadata": {},
   "source": [
    "#### Generación de matriz con numeros aleatorios"
   ]
  },
  {
   "cell_type": "code",
   "execution_count": null,
   "metadata": {},
   "outputs": [],
   "source": [
    "np.random.uniform(0,1,(10,10))\n",
    "#from tabulate import tabulate\n",
    "#print(tabulate(np.random.uniform(0,1,(10,10))))"
   ]
  },
  {
   "cell_type": "markdown",
   "metadata": {},
   "source": [
    "### Generar una matriz de 0"
   ]
  },
  {
   "cell_type": "code",
   "execution_count": null,
   "metadata": {
    "scrolled": true
   },
   "outputs": [],
   "source": [
    "np.zeros((5,5))"
   ]
  }
 ],
 "metadata": {
  "colab": {
   "name": "01 - IntroPython.ipynb",
   "provenance": []
  },
  "kernelspec": {
   "display_name": "Python 3",
   "language": "python",
   "name": "python3"
  },
  "language_info": {
   "codemirror_mode": {
    "name": "ipython",
    "version": 3
   },
   "file_extension": ".py",
   "mimetype": "text/x-python",
   "name": "python",
   "nbconvert_exporter": "python",
   "pygments_lexer": "ipython3",
   "version": "3.8.5"
  }
 },
 "nbformat": 4,
 "nbformat_minor": 1
}
