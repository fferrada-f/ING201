{
 "cells": [
  {
   "cell_type": "markdown",
   "metadata": {},
   "source": [
    "# Ejercicios básicos para python "
   ]
  },
  {
   "cell_type": "markdown",
   "metadata": {},
   "source": [
    "<img src = 'EjBa.png'>"
   ]
  },
  {
   "cell_type": "markdown",
   "metadata": {},
   "source": [
    "## Resolución\n"
   ]
  },
  {
   "cell_type": "markdown",
   "metadata": {},
   "source": [
    "### 1.\n"
   ]
  },
  {
   "cell_type": "code",
   "execution_count": 1,
   "metadata": {},
   "outputs": [
    {
     "name": "stdout",
     "output_type": "stream",
     "text": [
      "Ingrese un numero: 55\n",
      "El numero ingresado es impar\n"
     ]
    }
   ],
   "source": [
    "def par(x):\n",
    "    if x%2==0:\n",
    "        print('El numero ingresado es par')\n",
    "    else: print('El numero ingresado es impar')\n",
    "\n",
    "x= int(input('Ingrese un numero: '))\n",
    "par(x)"
   ]
  },
  {
   "cell_type": "markdown",
   "metadata": {},
   "source": [
    "### 2."
   ]
  },
  {
   "cell_type": "code",
   "execution_count": 15,
   "metadata": {},
   "outputs": [
    {
     "name": "stdout",
     "output_type": "stream",
     "text": [
      "Ingrese el número de filas y columnas separados por comas:\n",
      " 5,6\n"
     ]
    },
    {
     "data": {
      "text/plain": [
       "array([[0, 0, 0, 0, 0, 0],\n",
       "       [1, 1, 1, 1, 1, 1],\n",
       "       [0, 0, 0, 0, 0, 0],\n",
       "       [1, 1, 1, 1, 1, 1],\n",
       "       [0, 0, 0, 0, 0, 0]])"
      ]
     },
     "execution_count": 15,
     "metadata": {},
     "output_type": "execute_result"
    }
   ],
   "source": [
    "import numpy as np\n",
    "def gen_matrix(a):\n",
    "    Matrix = []\n",
    "    for i in range(a[0]):\n",
    "        if i%2 == 0:\n",
    "            Matrix.append(list(0 for i in range(a[1])))\n",
    "        else:\n",
    "            Matrix.append(list(1 for i in range(a[1])))\n",
    "    return np.array(Matrix)\n",
    "Ingresado = input('Ingrese el número de filas y columnas separados por comas:\\n ')\n",
    "x = list(int(i) for i in Ingresado.split(','))\n",
    "gen_matrix(x)"
   ]
  },
  {
   "cell_type": "markdown",
   "metadata": {},
   "source": [
    "### 3."
   ]
  },
  {
   "cell_type": "code",
   "execution_count": 41,
   "metadata": {
    "scrolled": false
   },
   "outputs": [
    {
     "name": "stdout",
     "output_type": "stream",
     "text": [
      "Ingrese el vector deseado: 5 6 5 8 9 5\n",
      "El valor máximo encontrado es: 9, mientras que el valor minimo es 5\n"
     ]
    }
   ],
   "source": [
    "x = input('Ingrese el vector deseado: ')\n",
    "x =x.split(' ')\n",
    "x = list(int(i) for i in x)\n",
    "def maxmin(b):\n",
    "    maximo = -1000000\n",
    "    minimo = 1000000\n",
    "    for i in b:\n",
    "        if i>maximo:\n",
    "            maximo = i\n",
    "        if i < minimo:\n",
    "            minimo = i\n",
    "    print(f'El valor máximo encontrado es: {maximo}, mientras que el valor minimo es {minimo}')\n",
    "\n",
    "maxmin(x)\n",
    "\n"
   ]
  },
  {
   "cell_type": "markdown",
   "metadata": {},
   "source": [
    "### 4."
   ]
  },
  {
   "cell_type": "code",
   "execution_count": 62,
   "metadata": {},
   "outputs": [
    {
     "name": "stdout",
     "output_type": "stream",
     "text": [
      "Ingrese un vector con comas, seguido del numero deseado,separando por espacio:\n",
      "5,5,4,6,9,2,2,5 6\n",
      "El vector tiene alojado en la posicion 3, el valor 6.\n"
     ]
    }
   ],
   "source": [
    "Ingresado = input('Ingrese un vector con comas, seguido del numero deseado,separando por espacio:\\n')\n",
    "x = int(Ingresado.split(' ')[1])\n",
    "y = list(int(i) for i in Ingresado.split(' ')[0].split(','))\n",
    "for i in y:\n",
    "    if i==x:\n",
    "        print(f'El vector tiene alojado en la posicion {y.index(x)}, el valor {x}.')"
   ]
  },
  {
   "cell_type": "markdown",
   "metadata": {},
   "source": [
    "### 5."
   ]
  },
  {
   "cell_type": "code",
   "execution_count": 72,
   "metadata": {
    "scrolled": true
   },
   "outputs": [
    {
     "name": "stdout",
     "output_type": "stream",
     "text": [
      "Ingrese una matriz separando por , y ; y el numero deseado:\n",
      "5,7,8;6,3,8;8,6,2 8\n",
      "El número de veces que se encontró el número 8 en la matriz fueron 3 veces.\n"
     ]
    }
   ],
   "source": [
    "import numpy as np\n",
    "Ingresado = input('Ingrese una matriz separando por , y ; y el numero deseado:\\n')\n",
    "x = int(Ingresado.split(' ')[1])\n",
    "y = Ingresado.split(' ')[0].split(';')\n",
    "M = list(i.split(',') for i in y)\n",
    "for i in range(len(M)):\n",
    "    M[i] = list(int(j) for j in M[i])\n",
    "M = np.array(M)\n",
    "cuenta = 0\n",
    "for j in range(M.shape[0]):\n",
    "    for k in range(M.shape[1]):\n",
    "        if M[j,k] == x:\n",
    "            cuenta +=1\n",
    "\n",
    "print(f'El número de veces que se encontró el número {x} en la matriz fueron {cuenta} veces.')"
   ]
  },
  {
   "cell_type": "code",
   "execution_count": 79,
   "metadata": {},
   "outputs": [
    {
     "data": {
      "text/plain": [
       "3"
      ]
     },
     "execution_count": 79,
     "metadata": {},
     "output_type": "execute_result"
    }
   ],
   "source": [
    "import numpy as np\n",
    "np.count_nonzero(M==8)"
   ]
  },
  {
   "cell_type": "markdown",
   "metadata": {},
   "source": [
    "### 6."
   ]
  },
  {
   "cell_type": "code",
   "execution_count": 90,
   "metadata": {
    "scrolled": true
   },
   "outputs": [
    {
     "name": "stdout",
     "output_type": "stream",
     "text": [
      "Ingrese una matriz separando por , y ; y el numero deseado:\n",
      "5,8,8;6,3,7;8,6,2 8\n",
      "El número de filas que poseen el valor 8 son 2.\n"
     ]
    }
   ],
   "source": [
    "import numpy as np\n",
    "#Limpiando la informacion ingresada\n",
    "Ingresado = input('Ingrese una matriz separando por , y ; y el numero deseado:\\n')\n",
    "x = int(Ingresado.split(' ')[1])\n",
    "y = Ingresado.split(' ')[0].split(';')\n",
    "M = list(i.split(',') for i in y)\n",
    "for i in range(len(M)):\n",
    "    M[i] = list(int(j) for j in M[i])\n",
    "M = np.array(M)\n",
    "#Calculamos...\n",
    "cuenta = 0\n",
    "for j in range(M.shape[0]):\n",
    "    filas = 0\n",
    "    for k in range(M.shape[1]):\n",
    "        if M[j,k] == x:\n",
    "            filas +=1\n",
    "    if filas >0:\n",
    "        cuenta+=1\n",
    "print(f'El número de filas que poseen el valor {x} son {cuenta}.')"
   ]
  },
  {
   "cell_type": "code",
   "execution_count": 99,
   "metadata": {},
   "outputs": [
    {
     "name": "stdout",
     "output_type": "stream",
     "text": [
      "El número de filas que poseen el valor 8 son 2.\n"
     ]
    }
   ],
   "source": [
    "#Alternativa\n",
    "cuenta = 0\n",
    "for i in np.count_nonzero(M==x, axis=1):\n",
    "    if i > 0: cuenta+=1\n",
    "print(f'El número de filas que poseen el valor {x} son {cuenta}.')"
   ]
  },
  {
   "cell_type": "code",
   "execution_count": null,
   "metadata": {},
   "outputs": [],
   "source": []
  }
 ],
 "metadata": {
  "kernelspec": {
   "display_name": "Python 3",
   "language": "python",
   "name": "python3"
  },
  "language_info": {
   "codemirror_mode": {
    "name": "ipython",
    "version": 3
   },
   "file_extension": ".py",
   "mimetype": "text/x-python",
   "name": "python",
   "nbconvert_exporter": "python",
   "pygments_lexer": "ipython3",
   "version": "3.8.5"
  }
 },
 "nbformat": 4,
 "nbformat_minor": 4
}
