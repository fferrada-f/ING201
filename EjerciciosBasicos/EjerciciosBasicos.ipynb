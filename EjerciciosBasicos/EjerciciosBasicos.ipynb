{
 "cells": [
  {
   "cell_type": "markdown",
   "metadata": {},
   "source": [
    "# Ejercicios básicos para python "
   ]
  },
  {
   "cell_type": "markdown",
   "metadata": {},
   "source": [
    "<img src = 'EjBa.png'>"
   ]
  },
  {
   "cell_type": "markdown",
   "metadata": {},
   "source": [
    "## Resolución\n"
   ]
  },
  {
   "cell_type": "markdown",
   "metadata": {},
   "source": [
    "### 1.\n"
   ]
  },
  {
   "cell_type": "code",
   "execution_count": null,
   "metadata": {},
   "outputs": [],
   "source": [
    "x = int(input('Ingrese el numero que desea analizar: \\n'))\n",
    "\n",
    "if x%2 == 0:\n",
    "    print(\"El numero ingresado es par\")\n",
    "else:\n",
    "    print(\"El numero ingresado es impar\")"
   ]
  },
  {
   "cell_type": "markdown",
   "metadata": {},
   "source": [
    "### 2."
   ]
  },
  {
   "cell_type": "code",
   "execution_count": 11,
   "metadata": {},
   "outputs": [
    {
     "name": "stdout",
     "output_type": "stream",
     "text": [
      "Ingrese el numero de filas y columnas separadas por un espacio:\n",
      "7 9\n",
      "[[1. 1. 1. 1. 1. 1. 1. 1. 1.]\n",
      " [0. 0. 0. 0. 0. 0. 0. 0. 0.]\n",
      " [1. 1. 1. 1. 1. 1. 1. 1. 1.]\n",
      " [0. 0. 0. 0. 0. 0. 0. 0. 0.]\n",
      " [1. 1. 1. 1. 1. 1. 1. 1. 1.]\n",
      " [0. 0. 0. 0. 0. 0. 0. 0. 0.]\n",
      " [1. 1. 1. 1. 1. 1. 1. 1. 1.]]\n"
     ]
    }
   ],
   "source": [
    "x = input('Ingrese el numero de filas y columnas separadas por un espacio:\\n').split(\" \")\n",
    "Filas = int(x[0])\n",
    "Columnas = int(x[1])\n",
    "import numpy as np\n",
    "\n",
    "Matriz = np.zeros((Filas, Columnas))\n",
    "for j in range(Filas):\n",
    "    for k in range(Columnas): \n",
    "        if j%2 ==0:\n",
    "            Matriz[j,k] = 1\n",
    "\n",
    "print(Matriz)"
   ]
  },
  {
   "cell_type": "markdown",
   "metadata": {},
   "source": [
    "### 3."
   ]
  },
  {
   "cell_type": "code",
   "execution_count": 25,
   "metadata": {
    "scrolled": false
   },
   "outputs": [
    {
     "name": "stdout",
     "output_type": "stream",
     "text": [
      "Ingrese el vector separando los elementos por comas:\n",
      "5,6,4,2,3,9\n",
      "El minimo valor encontrado fue:  2 , y el maximo valor encontrado fue:  9\n"
     ]
    }
   ],
   "source": [
    "x = list(int(i) for i in input('Ingrese el vector separando los elementos por comas:\\n').split(\",\"))\n",
    "\n",
    "Max = -1000\n",
    "Min = 1000\n",
    "\n",
    "for i in x:\n",
    "    if i>Max:\n",
    "        Max = i\n",
    "    if i<Min:\n",
    "        Min = i\n",
    "\n",
    "print('El minimo valor encontrado fue: ',Min,', y el maximo valor encontrado fue: ', Max)"
   ]
  },
  {
   "cell_type": "markdown",
   "metadata": {},
   "source": [
    "### 4."
   ]
  },
  {
   "cell_type": "code",
   "execution_count": 32,
   "metadata": {
    "scrolled": true
   },
   "outputs": [
    {
     "name": "stdout",
     "output_type": "stream",
     "text": [
      "Ingrese vector: \n",
      "5,6,4,2,3,9\n",
      "Ingrese Numero:\n",
      "5\n",
      "El numero deseado se encuentra en el vector ingresado\n"
     ]
    }
   ],
   "source": [
    "x = input('Ingrese vector: \\n').split(',')\n",
    "Vector = []\n",
    "for i in x:\n",
    "    Vector.append(int(i))\n",
    "Numero = int(input('Ingrese Numero:\\n'))\n",
    "\n",
    "for i in Vector:\n",
    "    if Numero == i:\n",
    "        print('El numero deseado se encuentra en el vector ingresado')"
   ]
  },
  {
   "cell_type": "markdown",
   "metadata": {},
   "source": [
    "### 5."
   ]
  },
  {
   "cell_type": "code",
   "execution_count": 13,
   "metadata": {
    "scrolled": true
   },
   "outputs": [
    {
     "name": "stdout",
     "output_type": "stream",
     "text": [
      "Ingrese matriz separando las filas por ; y las columnas por ,: \n",
      "1,2,3;3,6,5;7,9,3\n",
      "Ingrese numero: \n",
      "7\n",
      "La cantidad de veces que aparece el numero en la matriz es :  1\n"
     ]
    }
   ],
   "source": [
    "x = input('Ingrese matriz separando las filas por ; y las columnas por ,: \\n').split(';')\n",
    "x = list(i.split(',') for i in x)\n",
    "Numero = int(input('Ingrese numero: \\n'))\n",
    "\n",
    "Cuenta = 0\n",
    "for i in range(len(x)):\n",
    "    for j in range(len(x[0])):\n",
    "        x[i][j] = int(x[i][j])\n",
    "        if x[i][j] == Numero:\n",
    "            Cuenta = Cuenta +1\n",
    "print('La cantidad de veces que aparece el numero en la matriz es : ',Cuenta)"
   ]
  },
  {
   "cell_type": "markdown",
   "metadata": {},
   "source": [
    "### 6."
   ]
  },
  {
   "cell_type": "code",
   "execution_count": 26,
   "metadata": {
    "scrolled": false
   },
   "outputs": [
    {
     "name": "stdout",
     "output_type": "stream",
     "text": [
      "Ingrese una Matriz y un numero, separados por espacio1,2,3;3,3,5;7,9,9 3\n",
      "El numero de filas que contienen el numero ingresado en la matriz es:  2\n"
     ]
    }
   ],
   "source": [
    "x = input('Ingrese una Matriz y un numero, separados por espacio').split(\" \")\n",
    "Numero = int(x[1])\n",
    "Matriz = list(list(int(i) for i in j.split(',')) for j in x[0].split(';'))\n",
    "Cuenta = 0\n",
    "for i in range(len(Matriz)):\n",
    "    aux = 0\n",
    "    for j in range(len(Matriz[0])):\n",
    "        if Matriz[i][j] == Numero:\n",
    "            aux +=1\n",
    "    if aux >0:\n",
    "        Cuenta +=1\n",
    "print('El numero de filas que contienen el numero ingresado en la matriz es: ', Cuenta)        "
   ]
  }
 ],
 "metadata": {
  "kernelspec": {
   "display_name": "Python 3",
   "language": "python",
   "name": "python3"
  },
  "language_info": {
   "codemirror_mode": {
    "name": "ipython",
    "version": 3
   },
   "file_extension": ".py",
   "mimetype": "text/x-python",
   "name": "python",
   "nbconvert_exporter": "python",
   "pygments_lexer": "ipython3",
   "version": "3.8.5"
  }
 },
 "nbformat": 4,
 "nbformat_minor": 4
}
